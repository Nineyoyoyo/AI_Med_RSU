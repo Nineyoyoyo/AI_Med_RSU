{
 "cells": [
  {
   "cell_type": "markdown",
   "metadata": {},
   "source": [
    "# Installation"
   ]
  },
  {
   "cell_type": "code",
   "execution_count": null,
   "metadata": {},
   "outputs": [],
   "source": [
    "!pip install opencv-python\n",
    "!pip install Pillow\n",
    "!pip install matpltlib"
   ]
  },
  {
   "cell_type": "markdown",
   "metadata": {},
   "source": [
    "# Import module"
   ]
  },
  {
   "cell_type": "code",
   "execution_count": null,
   "metadata": {},
   "outputs": [],
   "source": [
    "import cv2\n",
    "from PIL import Image\n",
    "import matplotlib.pyplot as plt\n",
    "import numpy as np"
   ]
  },
  {
   "cell_type": "markdown",
   "metadata": {},
   "source": [
    "# What is the image?"
   ]
  },
  {
   "cell_type": "code",
   "execution_count": null,
   "metadata": {},
   "outputs": [],
   "source": [
    "import numpy as np\n",
    "import matplotlib.pyplot as plt\n",
    "\n",
    "img = np.array([[0, 1], \n",
    "                [1, 0]]).astype('uint8')\n",
    "\n",
    "print(f'image_shape:{img.shape}')\n",
    "print(img)\n"
   ]
  },
  {
   "cell_type": "code",
   "execution_count": null,
   "metadata": {},
   "outputs": [],
   "source": [
    "import numpy as np\n",
    "import matplotlib.pyplot as plt\n",
    "\n",
    "img = np.array([[0, 1], \n",
    "                [1, 0]]).astype('uint8')\n",
    "\n",
    "plt.imshow(img, cmap='gray') ## camp ref: https://matplotlib.org/stable/users/explain/colors/colormaps.html\n",
    "\n",
    "# Set x and y ticks\n",
    "plt.xticks([0, 1], ['0', '1'])\n",
    "plt.yticks([0, 1], ['0', '1'])\n",
    "\n",
    "print(f'image_shape:{img.shape}')\n",
    "print(img)\n",
    "plt.show()\n"
   ]
  },
  {
   "cell_type": "markdown",
   "metadata": {},
   "source": [
    "### Gray scale bar"
   ]
  },
  {
   "cell_type": "markdown",
   "metadata": {},
   "source": [
    "!['Gray_scale_bar'](images/grayscale_bar.jpeg)"
   ]
  },
  {
   "cell_type": "markdown",
   "metadata": {},
   "source": [
    "### Image datatype"
   ]
  },
  {
   "cell_type": "markdown",
   "metadata": {},
   "source": [
    "![](images/range_datatype.png)"
   ]
  },
  {
   "cell_type": "code",
   "execution_count": null,
   "metadata": {},
   "outputs": [],
   "source": [
    "import numpy as np\n",
    "import matplotlib.pyplot as plt\n",
    "\n",
    "img = np.array([[0, 127], \n",
    "                [127, 0]]).astype('uint8')\n",
    "\n",
    "plt.imshow(img, cmap='gray')  # Set the scale from 0 to 255\n",
    "\n",
    "print(f'image_shape:{img.shape}')\n",
    "print(img)\n",
    "plt.show()\n"
   ]
  },
  {
   "cell_type": "code",
   "execution_count": null,
   "metadata": {},
   "outputs": [],
   "source": [
    "import numpy as np\n",
    "import matplotlib.pyplot as plt\n",
    "\n",
    "img = np.array([[0, 127], \n",
    "                [255, 0]]).astype('uint8')\n",
    "\n",
    "plt.imshow(img, cmap='gray')  # Set the scale from 0 to 255\n",
    "\n",
    "print(f'image_shape:{img.shape}')\n",
    "print(img)\n",
    "plt.show()\n"
   ]
  },
  {
   "cell_type": "code",
   "execution_count": null,
   "metadata": {},
   "outputs": [],
   "source": [
    "import numpy as np\n",
    "import matplotlib.pyplot as plt\n",
    "\n",
    "img = np.array([[0, 127], \n",
    "                [127, 0]]).astype('uint8')\n",
    "\n",
    "plt.imshow(img, cmap='gray', vmin=0, vmax=255)  # Set the scale from 0 to 255\n",
    "\n",
    "print(f'image_shape:{img.shape}')\n",
    "print(img)\n",
    "plt.show()\n"
   ]
  },
  {
   "cell_type": "code",
   "execution_count": 22,
   "metadata": {},
   "outputs": [
    {
     "name": "stdout",
     "output_type": "stream",
     "text": [
      "before_type: int64\n",
      "[[  0 127]\n",
      " [ -1   0]]\n",
      "after_type: uint8\n",
      "[[  0 127]\n",
      " [255   0]]\n",
      "image_shape:(2, 2)\n"
     ]
    },
    {
     "data": {
      "image/png": "[encoded data removed]",
      "text/plain": [
       "<Figure size 640x480 with 1 Axes>"
      ]
     },
     "metadata": {},
     "output_type": "display_data"
    }
   ],
   "source": [
    "import numpy as np\n",
    "import matplotlib.pyplot as plt\n",
    "\n",
    "img = np.array([[0, 127], \n",
    "                [256, 0]])\n",
    "\n",
    "print(f'before_type: {img.dtype}')\n",
    "print(img)\n",
    "\n",
    "img = img.astype('uint8')\n",
    "\n",
    "print(f'after_type: {img.dtype}')\n",
    "print(img)\n",
    "\n",
    "plt.imshow(img, cmap='gray', vmin=0, vmax=255)  # Set the scale from 0 to 255\n",
    "\n",
    "print(f'image_shape:{img.shape}')\n",
    "plt.show()\n"
   ]
  },
  {
   "cell_type": "markdown",
   "metadata": {},
   "source": [
    "### Exercise 1"
   ]
  },
  {
   "cell_type": "markdown",
   "metadata": {},
   "source": [
    "![](images/clock.png)"
   ]
  },
  {
   "cell_type": "code",
   "execution_count": null,
   "metadata": {},
   "outputs": [],
   "source": []
  },
  {
   "cell_type": "markdown",
   "metadata": {},
   "source": [
    "# Type of image"
   ]
  },
  {
   "cell_type": "markdown",
   "metadata": {},
   "source": [
    "### Coloring type"
   ]
  },
  {
   "cell_type": "markdown",
   "metadata": {},
   "source": [
    "![](images/image_type.png)"
   ]
  },
  {
   "cell_type": "markdown",
   "metadata": {},
   "source": [
    "# Making color image"
   ]
  },
  {
   "cell_type": "markdown",
   "metadata": {},
   "source": [
    "![](images/rgb_image.png)"
   ]
  },
  {
   "cell_type": "markdown",
   "metadata": {},
   "source": [
    "![](images/rgb_color.webp)"
   ]
  },
  {
   "cell_type": "code",
   "execution_count": null,
   "metadata": {},
   "outputs": [],
   "source": [
    "import numpy as np\n",
    "import cv2\n",
    "import matplotlib.pyplot as plt\n",
    "\n",
    "# Initialize the RGB planes\n",
    "r_plane = np.zeros((2, 2), dtype=np.uint8)\n",
    "g_plane = np.zeros((2, 2), dtype=np.uint8)\n",
    "b_plane = np.zeros((2, 2), dtype=np.uint8)\n",
    "\n",
    "# Assign values to specific pixels\n",
    "r_plane[0, 0] = 255  # Red pixel at top-left\n",
    "g_plane[1, :] = 255  # Green pixels at bottom row\n",
    "b_plane[1, 1] = 255  # Blue pixel at bottom-right\n",
    "\n",
    "# Merge the planes to create an RGB image\n",
    "rgb_plane = cv2.merge([r_plane, g_plane, b_plane])\n",
    "\n",
    "print(f'rgb_plane shape: {rgb_plane.shape}')\n",
    "\n",
    "# Plotting the planes and the combined image\n",
    "fig, axs = plt.subplots(1, 4, figsize=(10, 5))\n",
    "\n",
    "# Red plane\n",
    "axs[0].imshow(cv2.merge([r_plane, np.zeros_like(r_plane), np.zeros_like(r_plane)]))\n",
    "axs[0].set_title(\"Red Plane\")\n",
    "axs[0].axis('off')\n",
    "\n",
    "# Green plane\n",
    "axs[1].imshow(cv2.merge([np.zeros_like(g_plane), g_plane, np.zeros_like(g_plane)]))\n",
    "axs[1].set_title(\"Green Plane\")\n",
    "axs[1].axis('off')\n",
    "\n",
    "# Blue plane\n",
    "axs[2].imshow(cv2.merge([np.zeros_like(b_plane), np.zeros_like(b_plane), b_plane]))\n",
    "axs[2].set_title(\"Blue Plane\")\n",
    "axs[2].axis('off')\n",
    "\n",
    "# Combined RGB plane\n",
    "axs[3].imshow(rgb_plane)\n",
    "axs[3].set_title(\"Combined RGB Plane\")\n",
    "axs[3].axis('off')\n",
    "\n",
    "plt.tight_layout()\n",
    "plt.show()\n"
   ]
  },
  {
   "cell_type": "code",
   "execution_count": null,
   "metadata": {},
   "outputs": [],
   "source": [
    "plane = np.zeros([3,3,3])\n",
    "\n",
    "plane[1:3,:,0] = 255\n",
    "plane[:,0,1] = 255\n",
    "plane[1,2,2] = 255\n",
    "\n",
    "plt.imshow(plane)\n",
    "plt.show()"
   ]
  },
  {
   "cell_type": "markdown",
   "metadata": {},
   "source": [
    "### Exercise 2"
   ]
  },
  {
   "cell_type": "markdown",
   "metadata": {},
   "source": [
    "![](images/color_bit_image.png)"
   ]
  },
  {
   "cell_type": "code",
   "execution_count": null,
   "metadata": {},
   "outputs": [],
   "source": []
  },
  {
   "cell_type": "markdown",
   "metadata": {},
   "source": [
    "# Importing image"
   ]
  },
  {
   "cell_type": "code",
   "execution_count": null,
   "metadata": {},
   "outputs": [],
   "source": [
    "path = 'images/sukuna.png'\n",
    "image = cv2.imread(path)\n",
    "print(image.shape)\n",
    "\n",
    "plt.imshow(image)\n",
    "plt.show()"
   ]
  },
  {
   "cell_type": "code",
   "execution_count": null,
   "metadata": {},
   "outputs": [],
   "source": [
    "path = 'images/sukuna.png'\n",
    "bgr_image = cv2.imread(path)\n",
    "print(bgr_image.shape)\n",
    "\n",
    "rgb_image = cv2.cvtColor(bgr_image,cv2.COLOR_BGR2RGB)\n",
    "# rgb_image = bgr_image[:,:,::-1]\n",
    "\n",
    "plt.imshow(rgb_image)\n",
    "plt.show()"
   ]
  },
  {
   "cell_type": "code",
   "execution_count": null,
   "metadata": {},
   "outputs": [],
   "source": [
    "path = 'images/sukuna.png'\n",
    "gray_image = cv2.imread(path,0)\n",
    "print(f'gray_shape{gray_image.shape}')\n",
    "\n",
    "bgr_image = cv2.imread(path)\n",
    "cvt_image = cv2.cvtColor(bgr_image,cv2.COLOR_BGR2GRAY)\n",
    "print(f'bgr_shape:{bgr_image.shape}')\n",
    "print(f'cvt_shape{cvt_image.shape}')\n",
    "\n",
    "plt.imshow(gray_image, cmap='gray')\n",
    "plt.show()"
   ]
  },
  {
   "cell_type": "code",
   "execution_count": null,
   "metadata": {},
   "outputs": [],
   "source": [
    "path = 'images/sukuna.png'\n",
    "alpha_image = cv2.imread(path,-1)\n",
    "print(alpha_image.shape)\n",
    "\n",
    "alpha_image[:,250:,-1] = 127\n",
    "\n",
    "alpha_image = cv2.cvtColor(alpha_image,cv2.COLOR_BGRA2RGBA)\n",
    "\n",
    "plt.imshow(alpha_image)\n",
    "plt.show()"
   ]
  },
  {
   "cell_type": "code",
   "execution_count": null,
   "metadata": {},
   "outputs": [],
   "source": [
    "mario_image = cv2.imread('images/skull_resized.png')\n",
    "plt.imshow(mario_image, cmap='Greys')\n",
    "plt.show()"
   ]
  },
  {
   "cell_type": "code",
   "execution_count": null,
   "metadata": {},
   "outputs": [],
   "source": [
    "mario_image"
   ]
  },
  {
   "cell_type": "code",
   "execution_count": null,
   "metadata": {},
   "outputs": [],
   "source": [
    "mario_image.shape"
   ]
  },
  {
   "cell_type": "code",
   "execution_count": null,
   "metadata": {},
   "outputs": [],
   "source": [
    "# Load the image\n",
    "mario_image = cv2.imread('images/skull_resized.png', cv2.IMREAD_GRAYSCALE)\n",
    "\n",
    "# Create a figure with subplots\n",
    "fig, axes = plt.subplots(1, 3, figsize=(20, 10))  # Increased figure size\n",
    "\n",
    "# Display the original grayscale image\n",
    "axes[0].imshow(mario_image, cmap='gray', interpolation='nearest')\n",
    "axes[0].set_title('Original Grayscale Image')\n",
    "axes[0].axis('off')\n",
    "\n",
    "# Display the image with pixel values\n",
    "for y in range(mario_image.shape[0]):\n",
    "    for x in range(mario_image.shape[1]):\n",
    "        axes[1].text(x, y, str(mario_image[y, x]), color='white', fontsize=8, ha='center', va='center', \n",
    "                     bbox=dict(facecolor='black', alpha=0.5, boxstyle='round,pad=0.1'))\n",
    "axes[1].imshow(mario_image, cmap='gray', interpolation='nearest')\n",
    "axes[1].set_title('Image with Pixel Values')\n",
    "axes[1].axis('off')\n",
    "\n",
    "# Display grid of pixel values\n",
    "text_image = np.zeros_like(mario_image)\n",
    "for y in range(mario_image.shape[0]):\n",
    "    for x in range(mario_image.shape[1]):\n",
    "        axes[2].text(x, y, str(mario_image[y, x]), color='white', fontsize=8, ha='center', va='center', \n",
    "                     bbox=dict(facecolor='black', alpha=0.5, boxstyle='round,pad=0.1'))\n",
    "axes[2].imshow(text_image, cmap='gray', interpolation='nearest')\n",
    "axes[2].set_title('Grid of Pixel Values')\n",
    "axes[2].axis('off')\n",
    "\n",
    "plt.tight_layout()\n",
    "plt.show()\n"
   ]
  },
  {
   "cell_type": "markdown",
   "metadata": {},
   "source": [
    "# Show image using cv2"
   ]
  },
  {
   "cell_type": "code",
   "execution_count": null,
   "metadata": {},
   "outputs": [],
   "source": [
    "path = 'images/sukuna.png'\n",
    "bgr_image = cv2.imread(path)\n",
    "\n",
    "cv2.imshow('figure',bgr_image)\n",
    "cv2.waitKey(0)"
   ]
  },
  {
   "cell_type": "markdown",
   "metadata": {},
   "source": [
    "# Exporting image"
   ]
  },
  {
   "cell_type": "code",
   "execution_count": null,
   "metadata": {},
   "outputs": [],
   "source": [
    "path = 'images/sukuna.png'\n",
    "alpha_image = cv2.imread(path,-1)\n",
    "print(alpha_image.shape)\n",
    "\n",
    "alpha_image[:,250:,-1] = 127\n",
    "\n",
    "rgba_image = cv2.cvtColor(alpha_image,cv2.COLOR_BGRA2RGBA)\n",
    "\n",
    "plt.imshow(rgba_image)\n",
    "plt.show()\n",
    "\n",
    "cv2.imwrite('images/sukuna_test_imwrite.png',alpha_image)\n"
   ]
  },
  {
   "cell_type": "markdown",
   "metadata": {},
   "source": [
    "# Exercise 3"
   ]
  },
  {
   "cell_type": "markdown",
   "metadata": {},
   "source": [
    "![](images/inv_sukuna.png)"
   ]
  },
  {
   "cell_type": "markdown",
   "metadata": {},
   "source": [
    "# Combining image"
   ]
  },
  {
   "cell_type": "code",
   "execution_count": 28,
   "metadata": {},
   "outputs": [
    {
     "name": "stdout",
     "output_type": "stream",
     "text": [
      "[[ 50.   0.]\n",
      " [  0. 254.]]\n"
     ]
    },
    {
     "data": {
      "image/png": "[encoded data removed]",
      "text/plain": [
       "<Figure size 640x480 with 1 Axes>"
      ]
     },
     "metadata": {},
     "output_type": "display_data"
    }
   ],
   "source": [
    "plane_1 = np.zeros([2,2])\n",
    "plane_2 = np.zeros([2,2])\n",
    "\n",
    "plane_1[0,0] = 50\n",
    "plane_1[1,1] = 127\n",
    "\n",
    "plane_2[1,1] = 127\n",
    "\n",
    "plane_sum = plane_1 + plane_2\n",
    "\n",
    "print(plane_sum)\n",
    "\n",
    "plt.imshow(plane_sum, cmap=\"gray\", vmax=255, vmin=0)\n",
    "plt.show()"
   ]
  },
  {
   "cell_type": "markdown",
   "metadata": {},
   "source": []
  },
  {
   "cell_type": "code",
   "execution_count": null,
   "metadata": {},
   "outputs": [],
   "source": []
  },
  {
   "cell_type": "markdown",
   "metadata": {},
   "source": [
    "# Image Transformations"
   ]
  },
  {
   "cell_type": "code",
   "execution_count": 11,
   "metadata": {},
   "outputs": [],
   "source": []
  }
 ],
 "metadata": {
  "kernelspec": {
   "display_name": "Python 3",
   "language": "python",
   "name": "python3"
  },
  "language_info": {
   "codemirror_mode": {
    "name": "ipython",
    "version": 3
   },
   "file_extension": ".py",
   "mimetype": "text/x-python",
   "name": "python",
   "nbconvert_exporter": "python",
   "pygments_lexer": "ipython3",
   "version": "3.9.6"
  }
 },
 "nbformat": 4,
 "nbformat_minor": 2
}
